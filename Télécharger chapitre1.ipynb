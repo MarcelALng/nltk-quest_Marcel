{
 "cells": [
  {
   "cell_type": "markdown",
   "id": "2bc5d126",
   "metadata": {},
   "source": [
    "# 🧪 NLTK Quest – Chapitre 1\n",
    "Bienvenue dans ce notebook interactif pour tester les idées du chapitre 1."
   ]
  },
  {
   "cell_type": "code",
   "execution_count": null,
   "id": "228fa7a4",
   "metadata": {},
   "outputs": [],
   "source": [
    "import nltk\n",
    "nltk.download('book')\n",
    "from nltk.book import *"
   ]
  },
  {
   "cell_type": "markdown",
   "id": "5e415164",
   "metadata": {},
   "source": [
    "## 🔍 Question : Quel est le mot le plus fréquent ?"
   ]
  },
  {
   "cell_type": "code",
   "execution_count": null,
   "id": "b3b6dcc8",
   "metadata": {},
   "outputs": [],
   "source": [
    "fdist1 = FreqDist(text1)\n",
    "fdist1.most_common(5)"
   ]
  },
  {
   "cell_type": "markdown",
   "id": "05eced70",
   "metadata": {},
   "source": [
    "## 🧠 Réflexion : Pourquoi 'the' ? Est-ce un stopword ?"
   ]
  },
  {
   "cell_type": "code",
   "execution_count": null,
   "id": "3b054660",
   "metadata": {},
   "outputs": [],
   "source": [
    "# Exemple de filtre de stopwords (NLTK)\n",
    "from nltk.corpus import stopwords\n",
    "stopwords_eng = set(stopwords.words('english'))\n",
    "filtered = [w for w in text1 if w.lower() not in stopwords_eng]"
   ]
  },
  {
   "cell_type": "code",
   "execution_count": null,
   "id": "91000f9f",
   "metadata": {},
   "outputs": [],
   "source": [
    "FreqDist(filtered).most_common(10)"
   ]
  }
 ],
 "metadata": {},
 "nbformat": 4,
 "nbformat_minor": 5
}
