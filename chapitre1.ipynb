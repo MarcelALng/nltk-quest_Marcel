{
 "cells": [
  {
   "cell_type": "markdown",
   "id": "ae9cb4fd",
   "metadata": {},
   "source": [
    "# 📘 NLTK Quest – Chapitre 1 (Version réflexive)\n",
    "Bienvenue dans ce notebook interactif. Aujourd’hui, tu vas explorer **comment un ordinateur peut comprendre un texte**. Tu dois non seulement coder, mais aussi réfléchir. 💡"
   ]
  },
  {
   "cell_type": "markdown",
   "id": "8db6911c",
   "metadata": {},
   "source": [
    "## 🔍 Q1. Quel est le mot le plus fréquent dans *Moby Dick* ?\n",
    "> 🌱 *Hypothèse :* Certains mots sont utilisés tellement souvent qu’on ne les remarque plus.\n",
    "\n",
    "> 🎯 *Objectif :* Découvrir la fréquence brute des mots dans un texte littéraire classique.\n",
    "\n",
    "> 🤔 *Réflexion :* Est-ce que les mots les plus fréquents sont les plus importants pour comprendre un texte ?"
   ]
  },
  {
   "cell_type": "code",
   "execution_count": null,
   "id": "88b4eddb",
   "metadata": {},
   "outputs": [],
   "source": [
    "from nltk.book import *\n",
    "fdist = FreqDist(text1)\n",
    "fdist.most_common(10)"
   ]
  },
  {
   "cell_type": "markdown",
   "id": "89e61608",
   "metadata": {},
   "source": [
    "## 🧠 Q2. Et si tu excluais les 'mots vides' (stopwords) ?\n",
    "> 📌 *Pourquoi ?* Pour ne garder que les mots qui « portent du sens ».\n",
    "> 💬 *Question :* Est-ce que cela change ce que tu crois être important dans le texte ?\n",
    "> ✍️ *Consigne :* Crée deux versions du top 10 : avec et sans stopwords."
   ]
  },
  {
   "cell_type": "code",
   "execution_count": null,
   "id": "45309aaa",
   "metadata": {},
   "outputs": [],
   "source": [
    "from nltk.corpus import stopwords\n",
    "stopwords_eng = set(stopwords.words('english'))\n",
    "filtered = [w for w in text1 if w.lower() not in stopwords_eng and w.isalpha()]\n",
    "fdist_filtered = FreqDist(filtered)\n",
    "fdist_filtered.most_common(10)"
   ]
  },
  {
   "cell_type": "markdown",
   "id": "1a133fb1",
   "metadata": {},
   "source": [
    "## 📚 Q3. Qu’est-ce que cela te dit sur la nature de ce texte ?\n",
    "> Est-ce descriptif ? narratif ? répétitif ? analytique ?\n",
    "> ✍️ *Rédige une phrase de conclusion sur ce que ce vocabulaire dominant révèle.*"
   ]
  },
  {
   "cell_type": "markdown",
   "id": "8e67a329",
   "metadata": {},
   "source": [
    "## 📍 BONUS – Crée ta propre hypothèse\n",
    "> Tu peux par exemple comparer les fréquences dans un autre texte (`text2`, `text3`, etc.) et voir si l’anglais du XIXe siècle est vraiment si différent d’aujourd’hui."
   ]
  }
 ],
 "metadata": {},
 "nbformat": 4,
 "nbformat_minor": 5
}
