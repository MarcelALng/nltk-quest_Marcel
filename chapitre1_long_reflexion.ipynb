{
 "cells": [
  {
   "cell_type": "markdown",
   "id": "2a90ca9e",
   "metadata": {},
   "source": [
    "# 📘 NLTK Quest – Chapitre 1 (Version longue et réflexive)\n",
    "Bienvenue dans le chapitre 1 de ton carnet d'exploration TAL.\n",
    "Ici, tu apprendras à réfléchir **comme un linguiste**, **comme un informaticien**, et **comme un explorateur de corpus**."
   ]
  },
  {
   "cell_type": "markdown",
   "id": "63e5d608",
   "metadata": {},
   "source": [
    "## 🔍 Q1 – Quel est le mot le plus fréquent dans Moby Dick ?\n",
    "> 🌱 *Hypothèse* : Dans un texte, certains mots apparaissent plus souvent que d'autres. Mais sont-ils utiles ?\n",
    "\n",
    "> 🎯 *Objectif* : Identifier les mots les plus fréquents dans *Moby Dick*.\n",
    "\n",
    "> 🤔 *Réflexion* : Est-ce que ces mots ont un sens lexical fort ? Ou sont-ils des mots outils ?"
   ]
  },
  {
   "cell_type": "code",
   "execution_count": null,
   "id": "9b2679b0",
   "metadata": {},
   "outputs": [],
   "source": [
    "from nltk.book import *\n",
    "fdist = FreqDist(text1)\n",
    "fdist.most_common(10)"
   ]
  },
  {
   "cell_type": "markdown",
   "id": "90524734",
   "metadata": {},
   "source": [
    "## 🧠 Q2 – Le poids des mots vides\n",
    "> 🧪 *Expérience* : Supprime les stopwords du texte, puis observe ce qui change dans les mots les plus fréquents.\n",
    "\n",
    "> 📌 *Pourquoi ?* Parce que les mots comme 'the', 'of', 'and' ne portent pas de sens lexical fort.\n",
    "\n",
    "> ✍️ *Tâche* : Compare les top 10 avec et sans stopwords. Puis interprète les résultats."
   ]
  },
  {
   "cell_type": "code",
   "execution_count": null,
   "id": "78769c5d",
   "metadata": {},
   "outputs": [],
   "source": [
    "from nltk.corpus import stopwords\n",
    "stopwords_eng = set(stopwords.words('english'))\n",
    "filtered_words = [w for w in text1 if w.lower() not in stopwords_eng and w.isalpha()]\n",
    "FreqDist(filtered_words).most_common(10)"
   ]
  },
  {
   "cell_type": "markdown",
   "id": "00ed4b13",
   "metadata": {},
   "source": [
    "## 📚 Q3 – Analyse du style\n",
    "> ✨ Que révèle la fréquence des mots sur le style du texte ?\n",
    "> Le narrateur est-il obsessionnel ? Les descriptions sont-elles dominantes ?\n",
    "\n",
    "> 📘 *Interprétation* : Rédige une brève analyse stylistique à partir des mots fréquents."
   ]
  },
  {
   "cell_type": "markdown",
   "id": "a680e6a1",
   "metadata": {},
   "source": [
    "## 📏 Q4 – Types vs Tokens\n",
    "> 🧠 Quelle est la richesse lexicale de *Moby Dick* ?\n",
    "> Compare le nombre de tokens (tous les mots) au nombre de types (mots uniques).\n",
    "\n",
    "> 📐 *Indice* : Plus le ratio est faible, plus le texte est répétitif."
   ]
  },
  {
   "cell_type": "code",
   "execution_count": null,
   "id": "8239617e",
   "metadata": {},
   "outputs": [],
   "source": [
    "num_tokens = len(text1)\n",
    "num_types = len(set(text1))\n",
    "richesse = num_types / num_tokens\n",
    "num_tokens, num_types, richesse"
   ]
  },
  {
   "cell_type": "markdown",
   "id": "e4048d21",
   "metadata": {},
   "source": [
    "## 🗺️ Q5 – Dispersion lexicale\n",
    "> Où apparaissent les mots importants dans le texte ? Sont-ils distribués régulièrement ?\n",
    "\n",
    "> 📊 Affiche une dispersion plot de mots-clés comme `whale`, `Ahab`, `sea`, `ship`"
   ]
  },
  {
   "cell_type": "code",
   "execution_count": null,
   "id": "0b97e66f",
   "metadata": {},
   "outputs": [],
   "source": [
    "text1.dispersion_plot(['whale', 'Ahab', 'sea', 'ship'])"
   ]
  },
  {
   "cell_type": "markdown",
   "id": "7a8c4c68",
   "metadata": {},
   "source": [
    "## 🧪 Q6 – Génération de texte naïve\n",
    "> Utilise un modèle de bigrammes pour générer du texte. Est-ce que le résultat est grammatical ? logique ? stylisé ?"
   ]
  },
  {
   "cell_type": "code",
   "execution_count": null,
   "id": "abefdb0a",
   "metadata": {},
   "outputs": [],
   "source": [
    "from nltk import bigrams, ConditionalFreqDist\n",
    "bi = bigrams(text1)\n",
    "cfd = ConditionalFreqDist(bi)\n",
    "\n",
    "word = 'Moby'\n",
    "for i in range(15):\n",
    "    print(word, end=' ')\n",
    "    word = cfd[word].max()"
   ]
  },
  {
   "cell_type": "markdown",
   "id": "1c6fe4d7",
   "metadata": {},
   "source": [
    "## ✍️ Conclusion du Chapitre 1\n",
    "> Que retiens-tu de cette première plongée dans le TAL ?\n",
    "> Qu’as-tu appris sur la relation entre les statistiques et le langage ?\n",
    "\n",
    "💡 *Rédige ta conclusion ici :*"
   ]
  }
 ],
 "metadata": {},
 "nbformat": 4,
 "nbformat_minor": 5
}
